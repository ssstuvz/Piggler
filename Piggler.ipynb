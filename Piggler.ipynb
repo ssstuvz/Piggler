{
 "metadata": {
  "name": "",
  "signature": "sha256:f8b3ffed28970545cf78885b5e6d20ea3a40f606f20fa391bf6d622ea9c4b318"
 },
 "nbformat": 3,
 "nbformat_minor": 0,
 "worksheets": [
  {
   "cells": [
    {
     "cell_type": "code",
     "collapsed": false,
     "input": [
      "a0=0.2\n",
      "\n",
      "lambda_L=1.0e-4\n",
      "\n",
      "w0=15.0e-4\n",
      "\n",
      "gamma=1000.0\n",
      "C=0.76\n",
      "\n",
      "e_n=0.025*1e-4\n",
      "x_ci=2.0e-4\n",
      "\n",
      "Z_R=pi*w0**2/lambda_L\n",
      "print 2*pi*Z_R*10\n",
      "print Z_R\n",
      "\n"
     ],
     "language": "python",
     "metadata": {},
     "outputs": [
      {
       "output_type": "stream",
       "stream": "stdout",
       "text": [
        "4.44132198049\n",
        "0.0706858347058\n"
       ]
      }
     ],
     "prompt_number": 173
    },
    {
     "cell_type": "code",
     "collapsed": false,
     "input": [
      "k_beta=2*a0/w0*sqrt(C/gamma)\n",
      "k_R=lambda_L/pi/w0**2\n",
      "a_beta=sqrt(0.76*2*a0/w0*e_n*sqrt(gamma))\n",
      "a_R=4*pi*a0**2*C*x_ci/lambda_L\n",
      "\n",
      "a_R2=gamma*k_R*k_beta**2*x_ci/(k_R**2-k_beta**2)\n",
      "\n",
      "r_bm=sqrt(e_n/gamma/k_beta)\n",
      "\n",
      "print \"k_beta =\", k_beta, \"\\t k_R =\", k_R, \"\\t k_R/k_beta =\", k_R/k_beta\n",
      "print \"Pierce\", a_beta**2/2\n",
      "print a_R, a_R2\n",
      "print \"r_bm =\", r_bm/lambda_L"
     ],
     "language": "python",
     "metadata": {},
     "outputs": [
      {
       "output_type": "stream",
       "stream": "stdout",
       "text": [
        "k_beta = 7.35149266778 \t k_R = 14.1471060526 \t k_R/k_beta = 1.92438552168\n",
        "Pierce 0.00801110340576\n",
        "0.764035333353 1.04667016545\n",
        "r_bm = 0.184409054072\n"
       ]
      }
     ],
     "prompt_number": 174
    },
    {
     "cell_type": "code",
     "collapsed": false,
     "input": [
      "0.25*0.25*3"
     ],
     "language": "python",
     "metadata": {},
     "outputs": [
      {
       "metadata": {},
       "output_type": "pyout",
       "prompt_number": 170,
       "text": [
        "0.1875"
       ]
      }
     ],
     "prompt_number": 170
    },
    {
     "cell_type": "code",
     "collapsed": false,
     "input": [
      "### MODES\n",
      "from math import *\n",
      "gamma=1000\n",
      "n=0\n",
      "m=1\n",
      "\n",
      "e_n=0.1e-4\n",
      "\n",
      "a_n=0.141\n",
      "a_m=0.1\n",
      "\n",
      "w0=10.0e-4\n",
      "\n",
      "lambda_n=1.0e-4\n",
      "lambda_m=1.4e-4\n",
      "\n",
      "delta_lambda_nm=lambda_n-lambda_m\n",
      "\n",
      "Z_n=pi*w0**2/lambda_n\n",
      "Z_m=pi*w0**2/lambda_m\n",
      "\n",
      "#print Z_n, Z_m\n",
      "\n",
      "lambda_R=4*pi/abs((2*n+1)/Z_n-(2*m+1)/Z_m)\n",
      "\n",
      "print \"Undulator period, mm: \",lambda_R*10\n",
      "\n",
      "beta_nm=-a_n**2/factorial(n)/2**n*(factorial(n)/factorial(n/2))**2*(4*n+2)+8*a_m**2/factorial(m)/2**m*(factorial(m)/factorial((m-1)/2))**2\n",
      "\n",
      "delta_nm=a_n*a_m*4*sqrt(2)/sqrt(factorial(n)*factorial(m)*2**(n+m))*factorial(n)*factorial(m)/factorial(n/2)/factorial((m-1)/2)\n",
      "\n",
      "#print C, beta_nm, gamma\n",
      "k_beta=sqrt(2*C*beta_nm/gamma/w0**2)\n",
      "k_R=2*pi/lambda_R\n",
      "\n",
      "a_R=C*delta_nm*lambda_R/2/pi/w0\n",
      "\n",
      "r_bm=sqrt(e_n/gamma/k_beta)\n",
      "a_beta=gamma*k_beta*r_bm\n",
      "\n",
      "print \"k_R/k_beta =\", k_R/k_beta\n",
      "print \"Undulator strength :\", a_R\n",
      "\n",
      "print \"Matched electron radius :\", r_bm/lambda_n\n",
      "print \"a_beta**2/2 =\", a_beta**2/2\n",
      "\n"
     ],
     "language": "python",
     "metadata": {},
     "outputs": [
      {
       "output_type": "stream",
       "stream": "stdout",
       "text": [
        "Undulator period, mm:  1.23370055014\n",
        "k_R/k_beta = 84.6759031405\n",
        "Undulator strength : 0.841632671897\n",
        "Matched electron radius : 1.28942137033\n",
        "a_beta**2/2 = 0.00300732439221\n"
       ]
      }
     ],
     "prompt_number": 193
    },
    {
     "cell_type": "code",
     "collapsed": false,
     "input": [],
     "language": "python",
     "metadata": {},
     "outputs": [],
     "prompt_number": 107
    },
    {
     "cell_type": "code",
     "collapsed": false,
     "input": [],
     "language": "python",
     "metadata": {},
     "outputs": []
    }
   ],
   "metadata": {}
  }
 ]
}